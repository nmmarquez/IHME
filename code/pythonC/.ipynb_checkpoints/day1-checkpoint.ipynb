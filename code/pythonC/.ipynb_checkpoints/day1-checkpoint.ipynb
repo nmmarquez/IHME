{
 "metadata": {
  "name": "",
  "signature": "sha256:118a04593ac59faa63a90d5ca72f271a20453fa1a481bfbacdc5182d3b8fed98"
 },
 "nbformat": 3,
 "nbformat_minor": 0,
 "worksheets": [
  {
   "cells": [
    {
     "cell_type": "code",
     "collapsed": false,
     "input": [
      "#import the neccessary modules\n",
      "%matplotlib inline\n",
      "from IPython.core.pylabtools import figsize # for plotting\n",
      "import os #operating system tools\n",
      "import numpy as np # numerical python modules\n",
      "import pymc as pm # bayes MCMC module\n",
      "import pandas as pd # data frame module\n",
      "from matplotlib import pyplot as plt # for plotting\n",
      "from scipy import stats # for stats"
     ],
     "language": "python",
     "metadata": {},
     "outputs": [],
     "prompt_number": 2
    },
    {
     "cell_type": "code",
     "collapsed": false,
     "input": [
      "# make the results reproducible by setting the seed\n",
      "np.random.seed (123)"
     ],
     "language": "python",
     "metadata": {},
     "outputs": [],
     "prompt_number": 3
    },
    {
     "cell_type": "code",
     "collapsed": false,
     "input": [
      "# different data types in base python\n",
      "print (type (3)) # integer\n",
      "print (type (3.0)) # float\n",
      "print (type (True)) # boolean\n",
      "print (type (\"3.0\")) # string"
     ],
     "language": "python",
     "metadata": {},
     "outputs": [
      {
       "output_type": "stream",
       "stream": "stdout",
       "text": [
        "<type 'int'>\n",
        "<type 'float'>\n",
        "<type 'bool'>\n",
        "<type 'str'>\n"
       ]
      }
     ],
     "prompt_number": 4
    },
    {
     "cell_type": "code",
     "collapsed": false,
     "input": [
      "# use python as a calculator\n",
      "print (3 + 3) # addition\n",
      "print (3. - 2) # subtraction\n",
      "print (3 * 3.0) # multiplication\n",
      "print (3 / 4.0) # division must use floats for accurate results!\n",
      "print (8.0 // 3) # division rounding down\n",
      "print (8.0 % 5) # get the remainder\n",
      "print (1 == 1) # boolean operaters\n",
      "print (1 != 5)\n",
      "print (6 >= 3)\n",
      "print (4 < 4)"
     ],
     "language": "python",
     "metadata": {},
     "outputs": [
      {
       "output_type": "stream",
       "stream": "stdout",
       "text": [
        "6\n",
        "1.0\n",
        "9.0\n",
        "0.75\n",
        "2.0\n",
        "3.0\n",
        "True\n",
        "True\n",
        "True\n",
        "False\n"
       ]
      }
     ],
     "prompt_number": 5
    },
    {
     "cell_type": "code",
     "collapsed": false,
     "input": [
      "os.chdir (\"/home/neal/Downloads\") # change directory\n",
      "gbdChild = pd.io.stata.read_stata (\"gbdChildMortality.dta\")"
     ],
     "language": "python",
     "metadata": {},
     "outputs": [],
     "prompt_number": 8
    },
    {
     "cell_type": "code",
     "collapsed": false,
     "input": [
      "print (gbdChild.columns.values) # variable names\n",
      "print (gbdChild.shape) # shape of data frame\n",
      "print (len (gbdChild.columns)) # or get num cols \n",
      "print (len (gbdChild.index)) # then num rows\n",
      "print (gbdChild.dtypes) # then data types of each variable"
     ],
     "language": "python",
     "metadata": {},
     "outputs": [
      {
       "output_type": "stream",
       "stream": "stdout",
       "text": [
        "['iso' 'country' 'gbdRegion' 'year' 'neoMR' 'postneoMR' 'age1_5MR'\n",
        " 'under5Lower' 'under5MR' 'under5Upper' 'neoDeaths' 'postneoDeaths'\n",
        " 'age1_5Deaths' 'under5Deaths']\n",
        "(7643, 14)\n",
        "14\n",
        "7643\n",
        "iso               object\n",
        "country           object\n",
        "gbdRegion         object\n",
        "year               int32\n",
        "neoMR            float32\n",
        "postneoMR        float32\n",
        "age1_5MR         float32\n",
        "under5Lower      float32\n",
        "under5MR         float32\n",
        "under5Upper      float32\n",
        "neoDeaths          int64\n",
        "postneoDeaths      int64\n",
        "age1_5Deaths       int64\n",
        "under5Deaths       int64\n",
        "dtype: object\n"
       ]
      }
     ],
     "prompt_number": 65
    },
    {
     "cell_type": "code",
     "collapsed": false,
     "input": [
      "print (gbdChild.describe()) # check out stats of numeric variables"
     ],
     "language": "python",
     "metadata": {},
     "outputs": [
      {
       "output_type": "stream",
       "stream": "stdout",
       "text": [
        "              year        neoMR    postneoMR     age1_5MR  under5Lower  \\\n",
        "count  7643.000000  7643.000000  7643.000000  7643.000000  7643.000000   \n",
        "mean   1990.034934    25.631309    25.308757    26.974912    69.288058   \n",
        "std      11.829592    18.076327    23.803260    38.355583    67.364824   \n",
        "min    1970.000000     1.270000     0.500000     0.090000     1.890000   \n",
        "25%    1980.000000    10.745000     5.945000     1.850000    17.180000   \n",
        "50%    1990.000000    21.910000    17.030001     7.480000    42.570000   \n",
        "75%    2000.000000    37.450001    39.315001    39.570002   104.885002   \n",
        "max    2010.000000   104.379997   137.970001   242.320007   359.390015   \n",
        "\n",
        "          under5MR  under5Upper       neoDeaths   postneoDeaths  \\\n",
        "count  7643.000000  7643.000000     7643.000000     7643.000000   \n",
        "mean     74.225165    79.834530    24632.119717    18873.878058   \n",
        "std      70.505180    74.208443   118653.332008    70425.857843   \n",
        "min       2.500000     3.220000        3.000000        1.000000   \n",
        "25%      19.030001    21.209999      460.500000      278.000000   \n",
        "50%      47.029999    52.029999     2525.000000     1999.000000   \n",
        "75%     112.299999   121.650002    13431.500000    13041.500000   \n",
        "max     370.299988   382.269989  1676975.000000  1127540.000000   \n",
        "\n",
        "         age1_5Deaths    under5Deaths  \n",
        "count     7643.000000     7643.000000  \n",
        "mean     18929.367526    62435.363862  \n",
        "std      77123.681012   259939.507947  \n",
        "min          0.000000        5.000000  \n",
        "25%        104.000000      874.500000  \n",
        "50%       1062.000000     5854.000000  \n",
        "75%      10905.500000    40564.000000  \n",
        "max    1389618.000000  4194133.000000  \n",
        "\n",
        "[8 rows x 11 columns]\n"
       ]
      }
     ],
     "prompt_number": 25
    },
    {
     "cell_type": "code",
     "collapsed": false,
     "input": [
      "print (gbdChild.gbdRegion.value_counts ()) # summarize factor level data"
     ],
     "language": "python",
     "metadata": {},
     "outputs": [
      {
       "output_type": "stream",
       "stream": "stdout",
       "text": [
        "                              counts     freqs\n",
        "levels                                        \n",
        "Asia Pacific, High Income        164  0.021458\n",
        "Asia, Central                    369  0.048279\n",
        "Asia, East                       120  0.015701\n",
        "Asia, South                      246  0.032186\n",
        "Asia, Southeast                  533  0.069737\n",
        "Australasia                       82  0.010729\n",
        "Caribbean                        615  0.080466\n",
        "Europe, Central                  533  0.069737\n",
        "Europe, Eastern                  287  0.037551\n",
        "Europe, Western                  902  0.118016\n",
        "Latin America, Andean            123  0.016093\n",
        "Latin America, Central           369  0.048279\n",
        "Latin America, Southern          123  0.016093\n",
        "Latin America, Tropical           82  0.010729\n",
        "North Africa / Middle East       779  0.101923\n",
        "North America, High Income        82  0.010729\n",
        "Oceania                          348  0.045532\n",
        "Sub-Saharan Africa, Central      246  0.032186\n",
        "Sub-Saharan Africa, East         615  0.080466\n",
        "Sub-Saharan Africa, Southern     246  0.032186\n",
        "Sub-Saharan Africa, West         779  0.101923\n",
        "\n",
        "[21 rows x 2 columns]\n"
       ]
      }
     ],
     "prompt_number": 53
    },
    {
     "cell_type": "code",
     "collapsed": false,
     "input": [
      "print (pd.crosstab (gbdChild.gbdRegion, gbdChild.iso)) # 2 way freq table"
     ],
     "language": "python",
     "metadata": {},
     "outputs": [
      {
       "output_type": "stream",
       "stream": "stdout",
       "text": [
        "iso                           AFG  AGO  ALB  AND  ARE  ARG  ARM  ATG  AUS  \\\n",
        "gbdRegion                                                                   \n",
        "Asia Pacific, High Income       0    0    0    0    0    0    0    0    0   \n",
        "Asia, Central                   0    0    0    0    0    0   41    0    0   \n",
        "Asia, East                      0    0    0    0    0    0    0    0    0   \n",
        "Asia, South                    41    0    0    0    0    0    0    0    0   \n",
        "Asia, Southeast                 0    0    0    0    0    0    0    0    0   \n",
        "Australasia                     0    0    0    0    0    0    0    0   41   \n",
        "Caribbean                       0    0    0    0    0    0    0   41    0   \n",
        "Europe, Central                 0    0   41    0    0    0    0    0    0   \n",
        "Europe, Eastern                 0    0    0    0    0    0    0    0    0   \n",
        "Europe, Western                 0    0    0   41    0    0    0    0    0   \n",
        "Latin America, Andean           0    0    0    0    0    0    0    0    0   \n",
        "Latin America, Central          0    0    0    0    0    0    0    0    0   \n",
        "Latin America, Southern         0    0    0    0    0   41    0    0    0   \n",
        "Latin America, Tropical         0    0    0    0    0    0    0    0    0   \n",
        "North Africa / Middle East      0    0    0    0   41    0    0    0    0   \n",
        "North America, High Income      0    0    0    0    0    0    0    0    0   \n",
        "Oceania                         0    0    0    0    0    0    0    0    0   \n",
        "Sub-Saharan Africa, Central     0   41    0    0    0    0    0    0    0   \n",
        "Sub-Saharan Africa, East        0    0    0    0    0    0    0    0    0   \n",
        "Sub-Saharan Africa, Southern    0    0    0    0    0    0    0    0    0   \n",
        "Sub-Saharan Africa, West        0    0    0    0    0    0    0    0    0   \n",
        "\n",
        "iso                           AUT  AZE  BDI  BEL  BEN  BFA  BGD  BGR  BHR  \\\n",
        "gbdRegion                                                                   \n",
        "Asia Pacific, High Income       0    0    0    0    0    0    0    0    0   \n",
        "Asia, Central                   0   41    0    0    0    0    0    0    0   \n",
        "Asia, East                      0    0    0    0    0    0    0    0    0   \n",
        "Asia, South                     0    0    0    0    0    0   41    0    0   \n",
        "Asia, Southeast                 0    0    0    0    0    0    0    0    0   \n",
        "Australasia                     0    0    0    0    0    0    0    0    0   \n",
        "Caribbean                       0    0    0    0    0    0    0    0    0   \n",
        "Europe, Central                 0    0    0    0    0    0    0   41    0   \n",
        "Europe, Eastern                 0    0    0    0    0    0    0    0    0   \n",
        "Europe, Western                41    0    0   41    0    0    0    0    0   \n",
        "Latin America, Andean           0    0    0    0    0    0    0    0    0   \n",
        "Latin America, Central          0    0    0    0    0    0    0    0    0   \n",
        "Latin America, Southern         0    0    0    0    0    0    0    0    0   \n",
        "Latin America, Tropical         0    0    0    0    0    0    0    0    0   \n",
        "North Africa / Middle East      0    0    0    0    0    0    0    0   41   \n",
        "North America, High Income      0    0    0    0    0    0    0    0    0   \n",
        "Oceania                         0    0    0    0    0    0    0    0    0   \n",
        "Sub-Saharan Africa, Central     0    0    0    0    0    0    0    0    0   \n",
        "Sub-Saharan Africa, East        0    0   41    0    0    0    0    0    0   \n",
        "Sub-Saharan Africa, Southern    0    0    0    0    0    0    0    0    0   \n",
        "Sub-Saharan Africa, West        0    0    0    0   41   41    0    0    0   \n",
        "\n",
        "iso                           BHS  BIH      \n",
        "gbdRegion                                   \n",
        "Asia Pacific, High Income       0    0 ...  \n",
        "Asia, Central                   0    0 ...  \n",
        "Asia, East                      0    0 ...  \n",
        "Asia, South                     0    0 ...  \n",
        "Asia, Southeast                 0    0 ...  \n",
        "Australasia                     0    0 ...  \n",
        "Caribbean                      41    0 ...  \n",
        "Europe, Central                 0   41 ...  \n",
        "Europe, Eastern                 0    0 ...  \n",
        "Europe, Western                 0    0 ...  \n",
        "Latin America, Andean           0    0 ...  \n",
        "Latin America, Central          0    0 ...  \n",
        "Latin America, Southern         0    0 ...  \n",
        "Latin America, Tropical         0    0 ...  \n",
        "North Africa / Middle East      0    0 ...  \n",
        "North America, High Income      0    0 ...  \n",
        "Oceania                         0    0 ...  \n",
        "Sub-Saharan Africa, Central     0    0 ...  \n",
        "Sub-Saharan Africa, East        0    0 ...  \n",
        "Sub-Saharan Africa, Southern    0    0 ...  \n",
        "Sub-Saharan Africa, West        0    0 ...  \n",
        "\n",
        "[21 rows x 187 columns]\n"
       ]
      }
     ],
     "prompt_number": 64
    },
    {
     "cell_type": "code",
     "collapsed": false,
     "input": [
      "print (gbdChild.neoMR [gbdChild.year >= 2000].describe()) # subset data by year\n",
      "\n",
      "print (gbdChild.neoMR [(gbdChild.year >= 2000) & \n",
      "                       (gbdChild.age1_5Deaths >= 1000)].describe())# then by another factor"
     ],
     "language": "python",
     "metadata": {},
     "outputs": [
      {
       "output_type": "stream",
       "stream": "stdout",
       "text": [
        "count    2057.000000\n",
        "mean       17.453746\n",
        "std        13.345872\n",
        "min         1.270000\n",
        "25%         5.760000\n",
        "50%        13.340000\n",
        "75%        27.440001\n",
        "max        62.570000\n",
        "Name: neoMR, dtype: float64\n",
        "count    874.000000\n",
        "mean      28.143557\n",
        "std       12.053486\n",
        "min        3.930000\n",
        "25%       18.307500\n",
        "50%       29.005000\n",
        "75%       36.960001\n",
        "max       62.570000\n",
        "Name: neoMR, dtype: float64\n"
       ]
      }
     ],
     "prompt_number": 76
    },
    {
     "cell_type": "code",
     "collapsed": false,
     "input": [
      "# histogram\n",
      "plt.figure();\n",
      "gbdChild.under5Upper.hist()\n",
      "plt.xlabel ('value')\n",
      "plt.ylabel ('freq')\n",
      "plt.title ('This is a histogram')"
     ],
     "language": "python",
     "metadata": {},
     "outputs": [
      {
       "metadata": {},
       "output_type": "pyout",
       "prompt_number": 80,
       "text": [
        "<matplotlib.text.Text at 0x7f4e24ea0110>"
       ]
      },
      {
       "metadata": {},
       "output_type": "display_data",
       "png": "[encoded data removed]",
       "text": [
        "<matplotlib.figure.Figure at 0x7f4e24ec8710>"
       ]
      }
     ],
     "prompt_number": 80
    },
    {
     "cell_type": "code",
     "collapsed": false,
     "input": [],
     "language": "python",
     "metadata": {},
     "outputs": []
    }
   ],
   "metadata": {}
  }
 ]
}