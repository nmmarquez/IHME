{
 "metadata": {
  "name": "",
  "signature": "sha256:ba751401463e713f60048a800c7451805a8f3fd3dc41a3f2f502b1b15e4b8585"
 },
 "nbformat": 3,
 "nbformat_minor": 0,
 "worksheets": [
  {
   "cells": [
    {
     "cell_type": "code",
     "collapsed": false,
     "input": [
      "#import the neccessary modules\n",
      "%matplotlib inline\n",
      "from IPython.core.pylabtools import figsize # for plotting\n",
      "import os #operating system tools\n",
      "import numpy as np # numerical python modules\n",
      "import pymc as pm # bayes MCMC module\n",
      "import pandas as pd # data frame module\n",
      "from matplotlib import pyplot as plt # for plotting\n",
      "from scipy import stats # for stats"
     ],
     "language": "python",
     "metadata": {},
     "outputs": [],
     "prompt_number": 1
    },
    {
     "cell_type": "code",
     "collapsed": false,
     "input": [
      "os.chdir (\"J:/temp/bootCamp/stataWorkshop/data\")\n",
      "gbd = pd.io.stata.read_stata (\"GBD+WorldBank.dta\")"
     ],
     "language": "python",
     "metadata": {},
     "outputs": [],
     "prompt_number": 3
    },
    {
     "cell_type": "code",
     "collapsed": false,
     "input": [
      "gbd.regionL = gbd.region.apply (str.lower)"
     ],
     "language": "python",
     "metadata": {},
     "outputs": [],
     "prompt_number": 9
    },
    {
     "cell_type": "code",
     "collapsed": false,
     "input": [
      "gbd.regionUS = gbd.regionL.apply (str.replace, args = (\" \", \"_\"))"
     ],
     "language": "python",
     "metadata": {},
     "outputs": [],
     "prompt_number": 15
    },
    {
     "cell_type": "code",
     "collapsed": false,
     "input": [
      "gbd.regionUS.value_counts()"
     ],
     "language": "python",
     "metadata": {},
     "outputs": [
      {
       "metadata": {},
       "output_type": "pyout",
       "prompt_number": 21,
       "text": [
        "europe_&_central_asia         2009\n",
        "sub-saharan_africa            1927\n",
        "latin_america_&_caribbean     1312\n",
        "east_asia_&_pacific           1086\n",
        "middle_east_&_north_africa     861\n",
        "south_asia                     328\n",
        "north_america                   82\n",
        "                                38\n",
        "dtype: int64"
       ]
      }
     ],
     "prompt_number": 21
    },
    {
     "cell_type": "code",
     "collapsed": false,
     "input": [],
     "language": "python",
     "metadata": {},
     "outputs": []
    }
   ],
   "metadata": {}
  }
 ]
}